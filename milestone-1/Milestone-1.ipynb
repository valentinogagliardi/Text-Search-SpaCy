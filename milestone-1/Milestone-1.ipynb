{
 "cells": [
  {
   "cell_type": "code",
   "execution_count": 43,
   "outputs": [],
   "source": [
    "# Preprocess the dataset using the spaCy library"
   ],
   "metadata": {
    "collapsed": false,
    "ExecuteTime": {
     "end_time": "2023-10-02T14:19:35.257610995Z",
     "start_time": "2023-10-02T14:19:35.210650661Z"
    }
   },
   "id": "49d79b3beee1c22d"
  },
  {
   "cell_type": "code",
   "execution_count": 44,
   "outputs": [],
   "source": [
    "import spacy\n",
    "import json\n",
    "\n",
    "nlp = spacy.load(\"en_core_web_sm\")\n",
    "\n",
    "def get_tokens(text):\n",
    "    doc = nlp(text.lower())          \n",
    "    return [token.lemma_ for token in doc if token.is_alpha and not token.is_stop]\n",
    "    \n",
    "\n",
    "with open('../data/data.json') as input_file, open('../data/tokenized.json', 'w') as output_file:\n",
    "    data = json.load(input_file)\n",
    "    \n",
    "    for datum in data:\n",
    "        datum[\"tokenized_text\"] = get_tokens(datum[\"text\"])\n",
    "    \n",
    "    json.dump(data, output_file)\n",
    "    "
   ],
   "metadata": {
    "collapsed": false,
    "ExecuteTime": {
     "end_time": "2023-10-02T14:19:36.265645941Z",
     "start_time": "2023-10-02T14:19:35.257451222Z"
    }
   },
   "id": "initial_id"
  }
 ],
 "metadata": {
  "kernelspec": {
   "display_name": "Python 3",
   "language": "python",
   "name": "python3"
  },
  "language_info": {
   "codemirror_mode": {
    "name": "ipython",
    "version": 2
   },
   "file_extension": ".py",
   "mimetype": "text/x-python",
   "name": "python",
   "nbconvert_exporter": "python",
   "pygments_lexer": "ipython2",
   "version": "2.7.6"
  }
 },
 "nbformat": 4,
 "nbformat_minor": 5
}
